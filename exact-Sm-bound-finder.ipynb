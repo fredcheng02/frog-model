{
 "cells": [
  {
   "cell_type": "markdown",
   "id": "efce0b49",
   "metadata": {},
   "source": [
    "#### Symbolic distribution of $U$ based on $m$ given"
   ]
  },
  {
   "cell_type": "code",
   "execution_count": 6,
   "id": "4ef54e8c",
   "metadata": {},
   "outputs": [],
   "source": [
    "%display latex\n",
    "lam = var('Lambda')\n",
    "phi = var('Phi')\n",
    "y = var('y')\n",
    "\n",
    "# recursion algorithm to find the pmf of U on m-ary tree\n",
    "def computeU(m):\n",
    "    U_mat = matrix(SR,m)\n",
    "    U_mat[0,0] = 1\n",
    "    \n",
    "    for j in range(1,m):\n",
    "        for k in range(j + 1): # if j = 1, k = 0 1\n",
    "            if k < j:\n",
    "                U_mat[j,k] = binomial(j,k) * (phi * lam^(k+1))^(j-k) * U_mat[k,k]\n",
    "            else: # k == j\n",
    "                U_mat[j,j] = 1 - sum(U_mat[j,i] for i in range(j))\n",
    "    \n",
    "    return U_mat[-1,:]"
   ]
  },
  {
   "cell_type": "markdown",
   "id": "29c12c04",
   "metadata": {},
   "source": [
    "#### Realization for different $m$ and $p=a/b$\n",
    "\n",
    "Note that we may use continued fraction to find a fraction approximation to a given decimal number. This will give us a smaller constant used later in substitution, and prevent `find_root` (a function used later) from precision problems."
   ]
  },
  {
   "cell_type": "code",
   "execution_count": 7,
   "id": "b5b448f7",
   "metadata": {},
   "outputs": [],
   "source": [
    "# adjust your m and p = a/b here\n",
    "m = 4\n",
    "a = 40\n",
    "b = 153\n",
    "\n",
    "# cf = continued_fraction(0.26142)\n",
    "# cf.convergents() # for choosing the p with small denom. and numer."
   ]
  },
  {
   "cell_type": "code",
   "execution_count": 8,
   "id": "00fa9a46",
   "metadata": {},
   "outputs": [],
   "source": [
    "# initialization; do not change\n",
    "p = a / b # should have coprime denominator and numerator\n",
    "sp = (a*m - a) / (b*m - a*m - a) # star-p\n",
    "\n",
    "phi = exp((2*a - b) / (b*m - a*m - a)) # as in frog star\n",
    "lam = y^(b - 2*a)\n",
    "\n",
    "U_vec = vector(computeU(m))"
   ]
  },
  {
   "cell_type": "code",
   "execution_count": 9,
   "id": "ebb56f3e",
   "metadata": {},
   "outputs": [
    {
     "data": {
      "text/html": [
       "<html>\\(\\displaystyle -{\\left(6 \\, y^{579} - 6 \\, y^{506} e^{\\frac{73}{412}} - 6 \\, y^{506} - 6 \\, y^{459} + 3 \\, y^{433} e^{\\frac{73}{412}} + 6 \\, y^{386} e^{\\frac{73}{412}} + 3 \\, y^{386} + 3 \\, y^{360} e^{\\frac{73}{206}} + y^{360} + 3 \\, y^{266} - 3 \\, y^{240} e^{\\frac{73}{206}} - 3 \\, y^{193} e^{\\frac{73}{412}} - y^{141} e^{\\frac{219}{412}} - 1\\right)} e^{\\left(-\\frac{339}{412}\\right)}\\)</html>"
      ],
      "text/latex": [
       "$\\displaystyle -{\\left(6 \\, y^{579} - 6 \\, y^{506} e^{\\frac{73}{412}} - 6 \\, y^{506} - 6 \\, y^{459} + 3 \\, y^{433} e^{\\frac{73}{412}} + 6 \\, y^{386} e^{\\frac{73}{412}} + 3 \\, y^{386} + 3 \\, y^{360} e^{\\frac{73}{206}} + y^{360} + 3 \\, y^{266} - 3 \\, y^{240} e^{\\frac{73}{206}} - 3 \\, y^{193} e^{\\frac{73}{412}} - y^{141} e^{\\frac{219}{412}} - 1\\right)} e^{\\left(-\\frac{339}{412}\\right)}$"
      ],
      "text/plain": [
       "-(6*y^579 - 6*y^506*e^(73/412) - 6*y^506 - 6*y^459 + 3*y^433*e^(73/412) + 6*y^386*e^(73/412) + 3*y^386 + 3*y^360*e^(73/206) + y^360 + 3*y^266 - 3*y^240*e^(73/206) - 3*y^193*e^(73/412) - y^141*e^(219/412) - 1)*e^(-339/412)"
      ]
     },
     "execution_count": 9,
     "metadata": {},
     "output_type": "execute_result"
    }
   ],
   "source": [
    "g(y) = (exp(-sp) * sum(y^((m-1)*(k*a+2*a-b)) * U_vec[k] for k in range(m))).simplify().factor()\n",
    "g(y)"
   ]
  },
  {
   "cell_type": "markdown",
   "id": "b66b5c01",
   "metadata": {},
   "source": [
    "To have the best display of long math equations, right click the math above, then select math settings |> math renderer |> preview html."
   ]
  },
  {
   "cell_type": "code",
   "execution_count": 10,
   "id": "2b37d5cc",
   "metadata": {
    "scrolled": false
   },
   "outputs": [
    {
     "data": {
      "image/png": "[encoded data removed]",
      "text/plain": [
       "Graphics object consisting of 2 graphics primitives"
      ]
     },
     "metadata": {},
     "output_type": "display_data"
    }
   ],
   "source": [
    "plt = plot(g(y),(y,0,1), ymin = 0, ymax = 1) + plot(1, (y,0,1), ymin = 0, ymax = 1, color = 'red')\n",
    "plt.show(figsize = [5,4], dpi = 120)\n",
    "# plt.save('g_y.png', figsize = [5,4], dpi = 300)"
   ]
  },
  {
   "cell_type": "code",
   "execution_count": 11,
   "id": "a3dd64ab",
   "metadata": {},
   "outputs": [
    {
     "data": {
      "text/html": [
       "<html>\\(\\displaystyle -3 \\, {\\left(1158 \\, y^{438} - 1012 \\, y^{365} e^{\\frac{73}{412}} - 1012 \\, y^{365} - 918 \\, y^{318} + 433 \\, y^{292} e^{\\frac{73}{412}} + 772 \\, y^{245} e^{\\frac{73}{412}} + 386 \\, y^{245} + 360 \\, y^{219} e^{\\frac{73}{206}} + 120 \\, y^{219} + 266 \\, y^{125} - 240 \\, y^{99} e^{\\frac{73}{206}} - 193 \\, y^{52} e^{\\frac{73}{412}} - 47 \\, e^{\\frac{219}{412}}\\right)} y^{140} e^{\\left(-\\frac{339}{412}\\right)}\\)</html>"
      ],
      "text/latex": [
       "$\\displaystyle -3 \\, {\\left(1158 \\, y^{438} - 1012 \\, y^{365} e^{\\frac{73}{412}} - 1012 \\, y^{365} - 918 \\, y^{318} + 433 \\, y^{292} e^{\\frac{73}{412}} + 772 \\, y^{245} e^{\\frac{73}{412}} + 386 \\, y^{245} + 360 \\, y^{219} e^{\\frac{73}{206}} + 120 \\, y^{219} + 266 \\, y^{125} - 240 \\, y^{99} e^{\\frac{73}{206}} - 193 \\, y^{52} e^{\\frac{73}{412}} - 47 \\, e^{\\frac{219}{412}}\\right)} y^{140} e^{\\left(-\\frac{339}{412}\\right)}$"
      ],
      "text/plain": [
       "-3*(1158*y^438 - 1012*y^365*e^(73/412) - 1012*y^365 - 918*y^318 + 433*y^292*e^(73/412) + 772*y^245*e^(73/412) + 386*y^245 + 360*y^219*e^(73/206) + 120*y^219 + 266*y^125 - 240*y^99*e^(73/206) - 193*y^52*e^(73/412) - 47*e^(219/412))*y^140*e^(-339/412)"
      ]
     },
     "execution_count": 11,
     "metadata": {},
     "output_type": "execute_result"
    }
   ],
   "source": [
    "dg(y) = diff(g(y)).factor()\n",
    "dg(y) # at the end we see the multiplicity at 0"
   ]
  },
  {
   "cell_type": "code",
   "execution_count": 12,
   "id": "f37dda0b",
   "metadata": {},
   "outputs": [
    {
     "data": {
      "text/latex": [
       "141"
      ],
      "text/plain": [
       "141"
      ]
     },
     "execution_count": 12,
     "metadata": {},
     "output_type": "execute_result"
    }
   ],
   "source": [
    "mdg = mathematica(dg(y)) # mdg is dg(y) in Mathematica\n",
    "mdg.CountRoots([y,0,1]) # call CountRoots from Mathematica"
   ]
  },
  {
   "cell_type": "markdown",
   "id": "b57342d1",
   "metadata": {},
   "source": [
    "There seems to be no `CountRoots` equivalent in SageMath. The `find_root` function gives *a* (not *the only*) root of $g(y)$ within the closed interval given using Brent's method. It may run into precision problems if we choose a substitution constant that is too large, which makes $g'(y)$ have extremely large coefficients and exponents for computation. See [this documentation link](https://doc.sagemath.org/html/en/reference/numerical/sage/numerical/optimize.html) for details about `find_root`.\n",
    "\n",
    "The idea is to import the `CountRoots` function from Mathematica (this requires some setup on the computer), which hopefully helps us determine that for the polynomial function $g'(y)$, there are (1 + multiplicity of the root $y = 0$) on the closed interval $[0,1]$. If that is the case, we know there is exactly one root $y_0$ of $g'(y)$ on $(0,1]$. Then by the steps below, we know that this root is indeed the argmax, with $g(y_0) < 1$."
   ]
  },
  {
   "cell_type": "code",
   "execution_count": 13,
   "id": "5dbe039c",
   "metadata": {
    "scrolled": true
   },
   "outputs": [
    {
     "data": {
      "text/html": [
       "<html>\\(\\displaystyle 0.9957756600409226\\)</html>"
      ],
      "text/latex": [
       "$\\displaystyle 0.9957756600409226$"
      ],
      "text/plain": [
       "0.9957756600409226"
      ]
     },
     "execution_count": 13,
     "metadata": {},
     "output_type": "execute_result"
    }
   ],
   "source": [
    "y0 = dg(y).find_root(0.9,1)\n",
    "y0\n",
    "\n",
    "# latex(mdg.FindRoot([y,0.99,0.9,1])) an alternative"
   ]
  },
  {
   "cell_type": "code",
   "execution_count": 14,
   "id": "4d192f12",
   "metadata": {
    "scrolled": false
   },
   "outputs": [
    {
     "data": {
      "text/html": [
       "<html>\\(\\displaystyle 0.999863504488442\\)</html>"
      ],
      "text/latex": [
       "$\\displaystyle 0.999863504488442$"
      ],
      "text/plain": [
       "0.999863504488442"
      ]
     },
     "execution_count": 14,
     "metadata": {},
     "output_type": "execute_result"
    }
   ],
   "source": [
    "g(y0).n() # < 1"
   ]
  },
  {
   "cell_type": "markdown",
   "id": "7a26f7eb",
   "metadata": {},
   "source": [
    "If $g(y_0) < 1$, then it remains to check if this $y_0$ is indeed the argmax. Here we recall EVT and Fermat's theorem.\n",
    "\n",
    "If we could check $g(y_0) > g(0)$ and $g(y_0) > g(1)$, then $g$ attains its maximum at $g_0$ on $(0,1]$."
   ]
  },
  {
   "cell_type": "code",
   "execution_count": 22,
   "id": "8ff72fd0",
   "metadata": {},
   "outputs": [
    {
     "data": {
      "text/html": [
       "<html>\\(\\displaystyle 0.439193348281269\\)</html>"
      ],
      "text/latex": [
       "$\\displaystyle 0.439193348281269$"
      ],
      "text/plain": [
       "0.439193348281269"
      ]
     },
     "execution_count": 22,
     "metadata": {},
     "output_type": "execute_result"
    }
   ],
   "source": [
    "g(0).n() # < g(y0).n() = exp(-(1 - sp) / m * (m - 1) - sp).n()"
   ]
  },
  {
   "cell_type": "code",
   "execution_count": 20,
   "id": "941117fe",
   "metadata": {},
   "outputs": [
    {
     "data": {
      "text/html": [
       "<html>\\(\\displaystyle 0.747319752986994\\)</html>"
      ],
      "text/latex": [
       "$\\displaystyle 0.747319752986994$"
      ],
      "text/plain": [
       "0.747319752986994"
      ]
     },
     "execution_count": 20,
     "metadata": {},
     "output_type": "execute_result"
    }
   ],
   "source": [
    "g(1).n() # < g(y_0).n() = exp(-sp).n()"
   ]
  },
  {
   "cell_type": "markdown",
   "id": "bea9ed89",
   "metadata": {},
   "source": [
    "To summarize,"
   ]
  },
  {
   "cell_type": "code",
   "execution_count": 17,
   "id": "b2776393",
   "metadata": {},
   "outputs": [
    {
     "name": "stdout",
     "output_type": "stream",
     "text": [
      "Under m = 4 and p = 40/153 ~ 0.26143790849673204 our substitution constant is 339 \n",
      "g(y) reaches its maximum at y = 0.9957756600409226 with value 0.999863504488442 < 1\n"
     ]
    }
   ],
   "source": [
    "print('Under m =', m, 'and p =', p, '~', float(p),'our substitution constant is', (b - a) * (m - 1),'\\n\\\n",
    "g(y) reaches its maximum at y =', y0, 'with value', g(y0).n(), '< 1')"
   ]
  }
 ],
 "metadata": {
  "kernelspec": {
   "display_name": "SageMath 10.0",
   "language": "sage",
   "name": "sagemath-10.0"
  },
  "language_info": {
   "codemirror_mode": {
    "name": "ipython",
    "version": 3
   },
   "file_extension": ".py",
   "mimetype": "text/x-python",
   "name": "python",
   "nbconvert_exporter": "python",
   "pygments_lexer": "ipython3",
   "version": "3.11.1"
  },
  "varInspector": {
   "cols": {
    "lenName": 16,
    "lenType": 16,
    "lenVar": 40
   },
   "kernels_config": {
    "python": {
     "delete_cmd_postfix": "",
     "delete_cmd_prefix": "del ",
     "library": "var_list.py",
     "varRefreshCmd": "print(var_dic_list())"
    },
    "r": {
     "delete_cmd_postfix": ") ",
     "delete_cmd_prefix": "rm(",
     "library": "var_list.r",
     "varRefreshCmd": "cat(var_dic_list()) "
    }
   },
   "types_to_exclude": [
    "module",
    "function",
    "builtin_function_or_method",
    "instance",
    "_Feature"
   ],
   "window_display": false
  }
 },
 "nbformat": 4,
 "nbformat_minor": 5
}
