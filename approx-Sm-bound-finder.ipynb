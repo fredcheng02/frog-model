{
 "cells": [
  {
   "cell_type": "markdown",
   "id": "3a1396a5",
   "metadata": {},
   "source": [
    "#### Numerical search for the upper bound to $S_m$"
   ]
  },
  {
   "cell_type": "code",
   "execution_count": 1,
   "id": "ec59b9fb",
   "metadata": {},
   "outputs": [],
   "source": [
    "RealNumber = RealField(200) # set precision"
   ]
  },
  {
   "cell_type": "markdown",
   "id": "a4b4f973",
   "metadata": {},
   "source": [
    "Different from the `computeU` in the exact-finder, this one computes the numerical distribution of $U(m,p,\\lambda)$ based on the given $p$ and $\\lambda$ (`x` in the code)."
   ]
  },
  {
   "cell_type": "code",
   "execution_count": 2,
   "id": "7ee03ec2",
   "metadata": {},
   "outputs": [],
   "source": [
    "def computeU(m,p,x):\n",
    "    U_mat = matrix(RealNumber,m)\n",
    "    U_mat[0,0] = 1\n",
    "    \n",
    "    sp = p * (m - 1) / (m - (m + 1) * p)\n",
    "    hp = p / (1 - p)\n",
    "    rho = 1 - hp\n",
    "\n",
    "    phi = exp(-(1 - sp) / m)\n",
    "    Lam = exp(-rho * x / (m - 1))\n",
    "    \n",
    "    for j in range(1,m):\n",
    "        for k in range(j + 1): # if j = 1, k = 0 1\n",
    "            if k < j:\n",
    "                U_mat[j,k] = binomial(j,k) * (phi * Lam^(k+1))^(j-k) * U_mat[k,k]\n",
    "            else: # k == j\n",
    "                U_mat[j,j] = 1 - sum(U_mat[j,i] for i in range(j))\n",
    "    \n",
    "    return vector(U_mat[-1,:])"
   ]
  },
  {
   "cell_type": "markdown",
   "id": "ef72e16b",
   "metadata": {},
   "source": [
    "Given $m$, we observe that when we choose the numerically optimal $p$ such that $f(\\lambda) < 1$, $\\operatorname*{arg\\,max}_{\\lambda \\in [0,\\infty)}f(\\lambda)$ is monotically converging to somewhere in $[0,1)$ as $m \\to \\infty$. The peaks always fall in $\\lambda \\in [0,1)$ after $m \\geq 8$, and thus we will only consider this interval. We take 100 equally spaced points from this interval and see if all of them have function values less than 1."
   ]
  },
  {
   "cell_type": "code",
   "execution_count": 3,
   "id": "d78d015c",
   "metadata": {},
   "outputs": [],
   "source": [
    "def f_eval(m,p): # works for m with x_max < 0.99\n",
    "    sp = p * (m - 1) / (m - (m + 1) * p)\n",
    "    hp = p / (1 - p)\n",
    "    y_lst = [0] * 100\n",
    "    \n",
    "    for i in range(100): # approximation by 100 points\n",
    "        temp = computeU(m,p,i / 100)\n",
    "        y_lst[i] = e^(-sp) * sum(e^((1 - hp * (1 + k)) * i / 100) * temp[k] for k in range(m))\n",
    "        if y_lst[i] >= 1: # see if all 100 points have y value < 1\n",
    "            return None\n",
    "        \n",
    "    return [vector([i / 100, y_lst[i]]) for i in range(100)]"
   ]
  },
  {
   "cell_type": "code",
   "execution_count": 4,
   "id": "1c80e9fe",
   "metadata": {},
   "outputs": [
    {
     "name": "stdout",
     "output_type": "stream",
     "text": [
      "CPU times: user 20.3 s, sys: 88.6 ms, total: 20.4 s\n",
      "Wall time: 20.5 s\n"
     ]
    }
   ],
   "source": [
    "%%time\n",
    "\n",
    "p_flag = 0.2038\n",
    "my_lst = []\n",
    "\n",
    "# this for loop approximates the bounds for m >= 14\n",
    "for m in range(14,20):\n",
    "    while f_eval(m, p_flag) != None:\n",
    "        p_flag = p_flag - 0.0001\n",
    "        \n",
    "    p_flag = p_flag + 0.0001\n",
    "    my_lst.append(p_flag)"
   ]
  },
  {
   "cell_type": "code",
   "execution_count": 5,
   "id": "5c050bc5",
   "metadata": {
    "scrolled": false
   },
   "outputs": [
    {
     "data": {
      "text/plain": [
       "[0.20190000000000000000000000000000000000000000000000000000000,\n",
       " 0.20030000000000000000000000000000000000000000000000000000000,\n",
       " 0.19900000000000000000000000000000000000000000000000000000000,\n",
       " 0.19780000000000000000000000000000000000000000000000000000000,\n",
       " 0.19670000000000000000000000000000000000000000000000000000000,\n",
       " 0.19579999999999999999999999999999999999999999999999999999999]"
      ]
     },
     "execution_count": 5,
     "metadata": {},
     "output_type": "execute_result"
    }
   ],
   "source": [
    "my_lst"
   ]
  },
  {
   "cell_type": "markdown",
   "id": "219a6dac",
   "metadata": {},
   "source": [
    "If you are interested in **checking a specific bound** given $m$ and\n",
    "looking at our plot approximated by 100 points on [0,1):\n",
    "\n",
    "Note that if `f_eval` gets y value $\\geq 1$ in the `for` loop, then **a `TypeError` will be given instead**."
   ]
  },
  {
   "cell_type": "code",
   "execution_count": 6,
   "id": "598bce41",
   "metadata": {
    "scrolled": false
   },
   "outputs": [
    {
     "data": {
      "image/png": "[encoded data removed]",
      "text/plain": [
       "Graphics object consisting of 2 graphics primitives"
      ]
     },
     "metadata": {},
     "output_type": "display_data"
    },
    {
     "name": "stdout",
     "output_type": "stream",
     "text": [
      "CPU times: user 49.8 s, sys: 237 ms, total: 50 s\n",
      "Wall time: 50.4 s\n"
     ]
    }
   ],
   "source": [
    "%%time\n",
    "\n",
    "RealNumber = RealField(600) # adjust precision\n",
    "\n",
    "plt = line(f_eval(230, 0.18)) + plot(1, (x,0,1), color = 'red')\n",
    "plt.show(figsize = [5,4], dpi = 120)\n",
    "# plt.save('f_lambda_approx.png', figsize = [5,4], dpi = 300)"
   ]
  },
  {
   "cell_type": "markdown",
   "id": "58d5f6ff",
   "metadata": {},
   "source": [
    "Thus we have developed a general way to approximately find upper bounds $q_m$ (introduced in the paper) to $S_m$ for *arbitrarily large $m$* in theory. Remember that for larger $m$, we need to increase our real number precision accordingly. This can be told by looking at the plot: if it looks continuous throughout, then the precision should be fine; if not, then one needs to increase the precision.\n",
    "\n",
    "To achieve more accurate results one should consider evaluating more points on $[0,1)$ (or even in a small neighborhood around the observed argmax from the plot)."
   ]
  }
 ],
 "metadata": {
  "kernelspec": {
   "display_name": "SageMath 10.0",
   "language": "sage",
   "name": "sagemath-10.0"
  },
  "language_info": {
   "codemirror_mode": {
    "name": "ipython",
    "version": 3
   },
   "file_extension": ".py",
   "mimetype": "text/x-python",
   "name": "python",
   "nbconvert_exporter": "python",
   "pygments_lexer": "ipython3",
   "version": "3.11.1"
  },
  "varInspector": {
   "cols": {
    "lenName": 16,
    "lenType": 16,
    "lenVar": 40
   },
   "kernels_config": {
    "python": {
     "delete_cmd_postfix": "",
     "delete_cmd_prefix": "del ",
     "library": "var_list.py",
     "varRefreshCmd": "print(var_dic_list())"
    },
    "r": {
     "delete_cmd_postfix": ") ",
     "delete_cmd_prefix": "rm(",
     "library": "var_list.r",
     "varRefreshCmd": "cat(var_dic_list()) "
    }
   },
   "types_to_exclude": [
    "module",
    "function",
    "builtin_function_or_method",
    "instance",
    "_Feature"
   ],
   "window_display": false
  }
 },
 "nbformat": 4,
 "nbformat_minor": 5
}
